{
 "cells": [
  {
   "cell_type": "markdown",
   "metadata": {
    "colab_type": "text",
    "id": "view-in-github"
   },
   "source": [
    "<a href=\"https://colab.research.google.com/github/WeizmannML/course2020/blob/master/Tutorial2/Pytorch_Classifier.ipynb\" target=\"_parent\"><img src=\"https://colab.research.google.com/assets/colab-badge.svg\" alt=\"Open In Colab\"/></a>"
   ]
  },
  {
   "cell_type": "code",
   "execution_count": 1,
   "metadata": {
    "colab": {},
    "colab_type": "code",
    "id": "5CU4x6YagGCK"
   },
   "outputs": [],
   "source": [
    "import numpy as np\n",
    "import pandas as pd\n",
    "from PIL import Image\n",
    "import matplotlib.pyplot as plt\n",
    "import torch\n",
    "import torch.nn as nn\n",
    "from torch.autograd import Variable\n",
    "import torch.utils.data as data"
   ]
  },
  {
   "cell_type": "code",
   "execution_count": 2,
   "metadata": {
    "colab": {},
    "colab_type": "code",
    "id": "o7IVakbygGCO"
   },
   "outputs": [],
   "source": [
    "#plt.plot( [1,2], [1, 2] )"
   ]
  },
  {
   "cell_type": "markdown",
   "metadata": {
    "colab_type": "text",
    "id": "qknawbKFgGCR"
   },
   "source": [
    "### Create a 2-feature dataset"
   ]
  },
  {
   "cell_type": "code",
   "execution_count": 3,
   "metadata": {
    "colab": {},
    "colab_type": "code",
    "id": "1lcpvfeDgGCT"
   },
   "outputs": [],
   "source": [
    "# First we create the point that we are going to use for the classifier.\n",
    "# We create n_points points for four classes of points center at [0,0], \n",
    "# [0,2], [2,0] and [2,2] with a deviation from the center that follows a\n",
    "# Gaussian distribution with a standar deviation of sigma.\n",
    "\n",
    "n_points = 20000\n",
    "points = np.zeros((n_points,2))   # x, y\n",
    "target = np.zeros((n_points,1))   # label\n",
    "sigma = 0.5\n",
    "for k in range(n_points):\n",
    "    # Random selection of one class with 25% of probability per class.\n",
    "    random = np.random.rand()\n",
    "    if random<0.25:\n",
    "        center = np.array([0,0])\n",
    "        target[k,0] = 0   # This points are labeled 0.\n",
    "    elif random<0.5:\n",
    "        center = np.array([2,2])\n",
    "        target[k,0] = 1   # This points are labeled 1.\n",
    "    elif random<0.75:\n",
    "        center = np.array([2,0])\n",
    "        target[k,0] = 2   # This points are labeled 2.\n",
    "    else:\n",
    "        center = np.array([0,2])\n",
    "        target[k,0] = 3   # This points are labeled 3.\n",
    "    gaussian01_2d = np.random.randn(1,2)\n",
    "    points[k,:] = center + sigma*gaussian01_2d\n",
    "\n",
    "# Now, we write all the points in a file.\n",
    "points_and_labels = np.concatenate((points,target),axis=1)   # 1st, 2nd, 3nd column --> x,y, label\n",
    "pd.DataFrame(points_and_labels).to_csv('clas.csv',index=False)"
   ]
  },
  {
   "cell_type": "markdown",
   "metadata": {
    "colab_type": "text",
    "id": "KqpNEyXZgGCX"
   },
   "source": [
    "### Creating custom dataset builder"
   ]
  },
  {
   "cell_type": "code",
   "execution_count": 4,
   "metadata": {
    "colab": {},
    "colab_type": "code",
    "id": "4bTHhU5jgGCX"
   },
   "outputs": [],
   "source": [
    "# We read the dataset and create an iterable.\n",
    "class my_points(data.Dataset):\n",
    "    def __init__(self, filename):\n",
    "        pd_data = pd.read_csv(filename).values   # Read data file.\n",
    "        self.data = pd_data[:,0:2]   # 1st and 2nd columns --> x,y\n",
    "        self.target = pd_data[:,2:]  # 3rd column --> label\n",
    "        self.n_samples = self.data.shape[0]\n",
    "    \n",
    "    def __len__(self):   # Length of the dataset.\n",
    "        return self.n_samples\n",
    "    \n",
    "    def __getitem__(self, index):   # Function that returns one point and one label.\n",
    "        return torch.Tensor(self.data[index]), torch.Tensor(self.target[index])"
   ]
  },
  {
   "cell_type": "code",
   "execution_count": 5,
   "metadata": {
    "colab": {},
    "colab_type": "code",
    "id": "9JcFBfqCgGCb"
   },
   "outputs": [],
   "source": [
    "# -- use the custom dataset builder to read the saved file --- #\n",
    "my_data = my_points('clas.csv')"
   ]
  },
  {
   "cell_type": "code",
   "execution_count": 6,
   "metadata": {
    "colab": {},
    "colab_type": "code",
    "id": "Rb75_xt1gGCd"
   },
   "outputs": [],
   "source": [
    "test_data = my_data.__getitem__(2)"
   ]
  },
  {
   "cell_type": "code",
   "execution_count": 7,
   "metadata": {
    "colab": {
     "base_uri": "https://localhost:8080/",
     "height": 34
    },
    "colab_type": "code",
    "id": "MIqNuRDYgGCg",
    "outputId": "67a86a5e-9ab1-489f-872e-79f1c65a0a3b"
   },
   "outputs": [
    {
     "data": {
      "text/plain": [
       "(tensor([-0.2584,  1.9907]), tensor([3.]))"
      ]
     },
     "execution_count": 7,
     "metadata": {},
     "output_type": "execute_result"
    }
   ],
   "source": [
    "test_data"
   ]
  },
  {
   "cell_type": "code",
   "execution_count": 8,
   "metadata": {
    "colab": {
     "base_uri": "https://localhost:8080/",
     "height": 34
    },
    "colab_type": "code",
    "id": "WYMB1vYhgGCk",
    "outputId": "f732f4b9-f508-498e-a498-bb5139213e0c"
   },
   "outputs": [
    {
     "data": {
      "text/plain": [
       "tuple"
      ]
     },
     "execution_count": 8,
     "metadata": {},
     "output_type": "execute_result"
    }
   ],
   "source": [
    "type(test_data)"
   ]
  },
  {
   "cell_type": "code",
   "execution_count": 9,
   "metadata": {
    "colab": {},
    "colab_type": "code",
    "id": "rq7cPMxxgGCn"
   },
   "outputs": [],
   "source": [
    "\n",
    "batch_size = 200\n",
    "my_loader = data.DataLoader(my_data,batch_size=batch_size,num_workers=0)"
   ]
  },
  {
   "cell_type": "code",
   "execution_count": 10,
   "metadata": {
    "colab": {},
    "colab_type": "code",
    "id": "aHf0aNZngGCr"
   },
   "outputs": [],
   "source": [
    "# We build a simple model with the inputs and one output layer.\n",
    "class my_model(nn.Module):\n",
    "    def __init__(self,n_in=2,n_hidden=5,n_out=4):\n",
    "        super(my_model,self).__init__()\n",
    "        self.n_in  = n_in\n",
    "        self.n_out = n_out\n",
    "        self.n_hidden = n_hidden\n",
    "         \n",
    "        self.linear = nn.Sequential(\n",
    "            nn.Linear(self.n_in, self.n_hidden),\n",
    "            nn.Linear(self.n_hidden ,self.n_hidden),   # Hidden layer.\n",
    "            nn.Dropout(p=0.2),\n",
    "            nn.Linear(self.n_hidden ,self.n_out),\n",
    "            nn.BatchNorm1d(self.n_out),\n",
    "            nn.ReLU()\n",
    "            )\n",
    "        self.logprob = nn.LogSoftmax(dim=1)                 # -Log(Softmax probability).\n",
    "    \n",
    "    def forward(self,x):\n",
    "        x = self.linear(x)\n",
    "        x = self.logprob(x)\n",
    "        return x"
   ]
  },
  {
   "cell_type": "code",
   "execution_count": 11,
   "metadata": {
    "colab": {},
    "colab_type": "code",
    "id": "fq8LrR9YgGCt"
   },
   "outputs": [],
   "source": [
    "# Now, we create the mode, the loss function or criterium and the optimizer \n",
    "# that we are going to use to minimize the loss.\n",
    "\n",
    "# Model.\n",
    "model = my_model()\n",
    "\n",
    "# Negative log likelihood loss.\n",
    "criterium = nn.NLLLoss()\n",
    "\n",
    "# Adam optimizer with learning rate 0.1 and L2 regularization with weight 1e-4.\n",
    "optimizer = torch.optim.Adam(model.parameters(),lr=0.1,weight_decay=1e-4)"
   ]
  },
  {
   "cell_type": "code",
   "execution_count": 12,
   "metadata": {
    "colab": {
     "base_uri": "https://localhost:8080/",
     "height": 185
    },
    "colab_type": "code",
    "id": "OKR_R0SVgGCw",
    "outputId": "8cac7c3f-0ccc-4bc9-bb4a-9f623a4adc7d"
   },
   "outputs": [
    {
     "name": "stdout",
     "output_type": "stream",
     "text": [
      "Loss 1.3107 at iter 0\n",
      "Loss 0.5589 at iter 10\n",
      "Loss 0.3446 at iter 20\n",
      "Loss 0.3302 at iter 30\n",
      "Loss 0.2518 at iter 40\n",
      "Loss 0.2628 at iter 50\n",
      "Loss 0.1448 at iter 60\n",
      "Loss 0.2402 at iter 70\n",
      "Loss 0.1778 at iter 80\n",
      "Loss 0.1470 at iter 90\n"
     ]
    }
   ],
   "source": [
    "loss_array = []\n",
    "epoch = 0\n",
    "\n",
    "# Taining.\n",
    "for k, (data, target) in enumerate(my_loader):\n",
    "    # Definition of inputs as variables for the net.\n",
    "    # requires_grad is set False because we do not need to compute the \n",
    "    # derivative of the inputs.\n",
    "    data   = Variable(data,requires_grad=False)\n",
    "    target = Variable(target.long(),requires_grad=False)\n",
    "    \n",
    "    # Set gradient to 0.\n",
    "    optimizer.zero_grad()\n",
    "    # Feed forward.\n",
    "    pred = model(data)\n",
    "    # Loss calculation.\n",
    "    loss = criterium(pred,target.view(-1))\n",
    "    \n",
    "    loss_array.append(loss.item() )\n",
    "    # Gradient calculation.\n",
    "    loss.backward()\n",
    "    \n",
    "    \n",
    "    # Print loss every 10 iterations.\n",
    "    if k%10==0:\n",
    "        print('Loss {:.4f} at iter {:d}'.format(loss.item(),k))\n",
    "        \n",
    "    # Model weight modification based on the optimizer. \n",
    "    optimizer.step()\n",
    "    \n",
    "    epoch += 1"
   ]
  },
  {
   "cell_type": "code",
   "execution_count": 13,
   "metadata": {
    "colab": {
     "base_uri": "https://localhost:8080/",
     "height": 296
    },
    "colab_type": "code",
    "id": "rvVOr2CDgGCz",
    "outputId": "8df9cc8a-3428-4de3-8559-5f14f90ea6a7"
   },
   "outputs": [
    {
     "data": {
      "text/plain": [
       "Text(0, 0.5, 'Loss')"
      ]
     },
     "execution_count": 13,
     "metadata": {},
     "output_type": "execute_result"
    },
    {
     "data": {
      "image/png": "[encoded data removed]",
      "text/plain": [
       "<Figure size 432x288 with 1 Axes>"
      ]
     },
     "metadata": {
      "needs_background": "light"
     },
     "output_type": "display_data"
    }
   ],
   "source": [
    "plt.plot( np.arange(0, epoch, 1), np.array(loss_array) )\n",
    "plt.xlabel('Epoch')\n",
    "plt.ylabel('Loss')"
   ]
  },
  {
   "cell_type": "code",
   "execution_count": null,
   "metadata": {
    "colab": {},
    "colab_type": "code",
    "id": "axQWGfIWgGC2"
   },
   "outputs": [],
   "source": []
  },
  {
   "cell_type": "code",
   "execution_count": null,
   "metadata": {
    "colab": {},
    "colab_type": "code",
    "id": "IKoMrUtkgGC4"
   },
   "outputs": [],
   "source": []
  },
  {
   "cell_type": "code",
   "execution_count": null,
   "metadata": {
    "colab": {},
    "colab_type": "code",
    "id": "ZvZjcQhJgGC6"
   },
   "outputs": [],
   "source": []
  },
  {
   "cell_type": "code",
   "execution_count": null,
   "metadata": {
    "colab": {},
    "colab_type": "code",
    "id": "GHd-eETXgGC9"
   },
   "outputs": [],
   "source": []
  },
  {
   "cell_type": "code",
   "execution_count": null,
   "metadata": {
    "colab": {},
    "colab_type": "code",
    "id": "HzeL0q5WgGC_"
   },
   "outputs": [],
   "source": []
  },
  {
   "cell_type": "code",
   "execution_count": 14,
   "metadata": {
    "colab": {
     "base_uri": "https://localhost:8080/",
     "height": 282
    },
    "colab_type": "code",
    "id": "rtVMkg0FgGDB",
    "outputId": "afb038be-0c98-492a-b736-a38f2176647d"
   },
   "outputs": [
    {
     "name": "stdout",
     "output_type": "stream",
     "text": [
      "Reached here\n"
     ]
    },
    {
     "data": {
      "image/png": "[encoded data removed]",
      "text/plain": [
       "<Figure size 432x288 with 1 Axes>"
      ]
     },
     "metadata": {
      "needs_background": "light"
     },
     "output_type": "display_data"
    }
   ],
   "source": [
    "# Now, we plot the results.\n",
    "# Circles indicate the ground truth and the squares are the predictions.\n",
    "\n",
    "colors = ['r','b','g','y']\n",
    "points = data.numpy()\n",
    "\n",
    "print('Reached here')\n",
    "\n",
    "# Ground truth.\n",
    "target = target.numpy()\n",
    "for k in range(4):\n",
    "    select = target[:,0]==k\n",
    "    p = points[select,:]\n",
    "    plt.scatter(p[:,0],p[:,1],facecolors=colors[k])\n",
    "\n",
    "# Predictions.\n",
    "pred = pred.exp().detach()     # exp of the log prob = probability.\n",
    "_, index = torch.max(pred,1)   # index of the class with maximum probability.\n",
    "pred = pred.numpy()\n",
    "index = index.numpy()\n",
    "for k in range(4):\n",
    "    select = index==k\n",
    "    p = points[select,:]\n",
    "    plt.scatter(p[:,0],p[:,1],s=60,marker='s',edgecolors=colors[k],facecolors='none')\n",
    "\n",
    "plt.show()"
   ]
  },
  {
   "cell_type": "code",
   "execution_count": 0,
   "metadata": {
    "colab": {},
    "colab_type": "code",
    "id": "FWgynogOgGDD"
   },
   "outputs": [],
   "source": []
  },
  {
   "cell_type": "code",
   "execution_count": 0,
   "metadata": {
    "colab": {},
    "colab_type": "code",
    "id": "NzWswzl1gGDG"
   },
   "outputs": [],
   "source": []
  },
  {
   "cell_type": "code",
   "execution_count": 0,
   "metadata": {
    "colab": {},
    "colab_type": "code",
    "id": "iRmWSqTsgGDI"
   },
   "outputs": [],
   "source": []
  },
  {
   "cell_type": "code",
   "execution_count": 0,
   "metadata": {
    "colab": {},
    "colab_type": "code",
    "id": "QD3qGN2_gGDK"
   },
   "outputs": [],
   "source": []
  }
 ],
 "metadata": {
  "accelerator": "GPU",
  "colab": {
   "include_colab_link": true,
   "name": "Pytorch_Classifier.ipynb",
   "provenance": []
  },
  "kernelspec": {
   "display_name": "Python 3",
   "language": "python",
   "name": "python3"
  },
  "language_info": {
   "codemirror_mode": {
    "name": "ipython",
    "version": 3
   },
   "file_extension": ".py",
   "mimetype": "text/x-python",
   "name": "python",
   "nbconvert_exporter": "python",
   "pygments_lexer": "ipython3",
   "version": "3.7.6"
  }
 },
 "nbformat": 4,
 "nbformat_minor": 1
}
