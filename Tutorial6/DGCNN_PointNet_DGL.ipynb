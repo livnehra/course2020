{
 "cells": [
  {
   "cell_type": "markdown",
   "metadata": {
    "colab_type": "text",
    "id": "view-in-github"
   },
   "source": [
    "<a href=\"https://colab.research.google.com/github/WeizmannML/course2020/blob/master/Tutorial6/DGCNN_PointNet_DGL.ipynb\" target=\"_parent\"><img src=\"https://colab.research.google.com/assets/colab-badge.svg\" alt=\"Open In Colab\"/></a>"
   ]
  },
  {
   "cell_type": "code",
   "execution_count": 1,
   "metadata": {
    "colab": {},
    "colab_type": "code",
    "id": "HR4pm4ciEHrK"
   },
   "outputs": [],
   "source": [
    "# !pip install pip install dgl-cu101\n",
    "# !pip install networkx\n",
    "import torch \n",
    "from torch import nn\n",
    "import torch.nn.functional as F_t\n",
    "from torch.nn import init"
   ]
  },
  {
   "cell_type": "code",
   "execution_count": 2,
   "metadata": {
    "colab": {
     "base_uri": "https://localhost:8080/",
     "height": 185
    },
    "colab_type": "code",
    "id": "K4cRwFcaNYDx",
    "outputId": "a65a1331-e21f-433c-d14c-2b74a95e5ca5"
   },
   "outputs": [
    {
     "name": "stdout",
     "output_type": "stream",
     "text": [
      "Collecting dgl-cu101"
     ]
    },
    {
     "name": "stderr",
     "output_type": "stream",
     "text": [
      "ERROR: Could not install packages due to an EnvironmentError: [WinError 5] Access is denied: 'C:\\\\Users\\\\Ran\\\\Anaconda3\\\\envs\\\\deep\\\\Lib\\\\site-packages\\\\dgl\\\\dgl.dll'\n",
      "Consider using the `--user` option or check the permissions.\n",
      "\n"
     ]
    },
    {
     "name": "stdout",
     "output_type": "stream",
     "text": [
      "\n",
      "  Downloading dgl_cu101-0.4.3.post2-cp37-cp37m-win_amd64.whl (14.1 MB)\n",
      "Requirement already satisfied: requests>=2.19.0 in c:\\users\\ran\\anaconda3\\envs\\deep\\lib\\site-packages (from dgl-cu101) (2.23.0)\n",
      "Requirement already satisfied: numpy>=1.14.0 in c:\\users\\ran\\anaconda3\\envs\\deep\\lib\\site-packages (from dgl-cu101) (1.18.1)\n",
      "Requirement already satisfied: scipy>=1.1.0 in c:\\users\\ran\\anaconda3\\envs\\deep\\lib\\site-packages (from dgl-cu101) (1.4.1)\n",
      "Requirement already satisfied: networkx>=2.1 in c:\\users\\ran\\anaconda3\\envs\\deep\\lib\\site-packages (from dgl-cu101) (2.4)\n",
      "Requirement already satisfied: urllib3!=1.25.0,!=1.25.1,<1.26,>=1.21.1 in c:\\users\\ran\\anaconda3\\envs\\deep\\lib\\site-packages (from requests>=2.19.0->dgl-cu101) (1.25.8)\n",
      "Requirement already satisfied: certifi>=2017.4.17 in c:\\users\\ran\\anaconda3\\envs\\deep\\lib\\site-packages (from requests>=2.19.0->dgl-cu101) (2020.4.5.1)\n",
      "Requirement already satisfied: chardet<4,>=3.0.2 in c:\\users\\ran\\anaconda3\\envs\\deep\\lib\\site-packages (from requests>=2.19.0->dgl-cu101) (3.0.4)\n",
      "Requirement already satisfied: idna<3,>=2.5 in c:\\users\\ran\\anaconda3\\envs\\deep\\lib\\site-packages (from requests>=2.19.0->dgl-cu101) (2.9)\n",
      "Requirement already satisfied: decorator>=4.3.0 in c:\\users\\ran\\anaconda3\\envs\\deep\\lib\\site-packages (from networkx>=2.1->dgl-cu101) (4.4.2)\n",
      "Installing collected packages: dgl-cu101\n"
     ]
    }
   ],
   "source": [
    "!pip install dgl-cu101"
   ]
  },
  {
   "cell_type": "code",
   "execution_count": 3,
   "metadata": {
    "colab": {
     "base_uri": "https://localhost:8080/",
     "height": 34
    },
    "colab_type": "code",
    "id": "a8YnozKmN0kQ",
    "outputId": "f6f05966-4331-46c2-bf87-9104d31cad40"
   },
   "outputs": [
    {
     "name": "stderr",
     "output_type": "stream",
     "text": [
      "Using backend: pytorch\n"
     ]
    }
   ],
   "source": [
    "import dgl.function as fn \n",
    "from dgl.base import DGLError"
   ]
  },
  {
   "cell_type": "code",
   "execution_count": 4,
   "metadata": {
    "colab": {},
    "colab_type": "code",
    "id": "tZ-9PzdjEYNn"
   },
   "outputs": [],
   "source": [
    "from dgl import backend as F\n",
    "import numpy as np\n",
    "import os, sys\n",
    "from scipy import sparse\n",
    "import torch.optim as optim\n",
    "from torch.utils.data import Dataset\n",
    "from torch.utils.data import DataLoader\n",
    "import torch\n",
    "import dgl\n",
    "from dgl.utils import expand_as_pair\n",
    "from dgl.data.utils import download, get_download_dir\n",
    "from functools import partial\n",
    "import tqdm"
   ]
  },
  {
   "cell_type": "code",
   "execution_count": 5,
   "metadata": {
    "colab": {},
    "colab_type": "code",
    "id": "tO-WXfnKMhkb"
   },
   "outputs": [],
   "source": [
    "def pairwise_squared_distance(x):\n",
    "    \"\"\"\n",
    "    x : (n_samples, n_points, dims)\n",
    "    return : (n_samples, n_points, n_points)\n",
    "    \"\"\"\n",
    "    x2s = F.sum(x * x, -1, True)\n",
    "    # assuming that __matmul__ is always implemented (true for PyTorch, MXNet and Chainer)\n",
    "    return x2s + F.swapaxes(x2s, -1, -2) - 2 * x @ F.swapaxes(x, -1, -2)"
   ]
  },
  {
   "cell_type": "code",
   "execution_count": 6,
   "metadata": {
    "colab": {},
    "colab_type": "code",
    "id": "-0qNrlZHEz3i"
   },
   "outputs": [],
   "source": [
    "def knn_graph(x, k):\n",
    "    \"\"\"Transforms the given point set to a directed graph, whose coordinates\n",
    "    are given as a matrix. The predecessors of each point are its k-nearest\n",
    "    neighbors.\n",
    "\n",
    "    If a 3D tensor is given instead, then each row would be transformed into\n",
    "    a separate graph.  The graphs will be unioned.\n",
    "\n",
    "    Parameters\n",
    "    ----------\n",
    "    x : Tensor\n",
    "        The input tensor.\n",
    "\n",
    "        If 2D, each row of ``x`` corresponds to a node.\n",
    "\n",
    "        If 3D, a k-NN graph would be constructed for each row.  Then\n",
    "        the graphs are unioned.\n",
    "    k : int\n",
    "        The number of neighbors\n",
    "\n",
    "    Returns\n",
    "    -------\n",
    "    DGLGraph\n",
    "        The graph.  The node IDs are in the same order as ``x``.\n",
    "    \"\"\"\n",
    "    if F.ndim(x) == 2:\n",
    "        x = F.unsqueeze(x, 0)\n",
    "    n_samples, n_points, _ = F.shape(x)\n",
    "\n",
    "    dist = pairwise_squared_distance(x)\n",
    "    k_indices = F.argtopk(dist, k, 2, descending=False)\n",
    "    dst = F.copy_to(k_indices, F.cpu())\n",
    "\n",
    "    src = F.zeros_like(dst) + F.reshape(F.arange(0, n_points), (1, -1, 1))\n",
    "\n",
    "    per_sample_offset = F.reshape(F.arange(0, n_samples) * n_points, (-1, 1, 1))\n",
    "    dst += per_sample_offset\n",
    "    src += per_sample_offset\n",
    "    dst = F.reshape(dst, (-1,))\n",
    "    src = F.reshape(src, (-1,))\n",
    "    adj = sparse.csr_matrix((F.asnumpy(F.zeros_like(dst) + 1), (F.asnumpy(dst), F.asnumpy(src))))\n",
    "\n",
    "    g = dgl.DGLGraph(adj, readonly=True)\n",
    "    return g"
   ]
  },
  {
   "cell_type": "code",
   "execution_count": 7,
   "metadata": {
    "colab": {},
    "colab_type": "code",
    "id": "YYjWEd69Fiz0"
   },
   "outputs": [],
   "source": [
    "class KNNGraph(nn.Module):\n",
    "    \"\"\"Layer that transforms one point set into a graph, or a batch of\n",
    "    point sets with the same number of points into a union of those graphs.\n",
    "\n",
    "    If a batch of point set is provided, then the point :math:`j` in point\n",
    "    set :math:`i` is mapped to graph node ID :math:`i \\times M + j`, where\n",
    "    :math:`M` is the number of nodes in each point set.\n",
    "\n",
    "    The predecessors of each node are the k-nearest neighbors of the\n",
    "    corresponding point.\n",
    "\n",
    "    Parameters\n",
    "    ----------\n",
    "    k : int\n",
    "        The number of neighbors\n",
    "    \"\"\"\n",
    "    def __init__(self, k):\n",
    "        super(KNNGraph, self).__init__()\n",
    "        self.k = k\n",
    "\n",
    "    #pylint: disable=invalid-name\n",
    "    def forward(self, x):\n",
    "        \"\"\"Forward computation.\n",
    "\n",
    "        Parameters\n",
    "        ----------\n",
    "        x : Tensor\n",
    "            :math:`(M, D)` or :math:`(N, M, D)` where :math:`N` means the\n",
    "            number of point sets, :math:`M` means the number of points in\n",
    "            each point set, and :math:`D` means the size of features.\n",
    "\n",
    "        Returns\n",
    "        -------\n",
    "        DGLGraph\n",
    "            A DGLGraph with no features.\n",
    "        \"\"\"\n",
    "        return knn_graph(x, self.k)"
   ]
  },
  {
   "cell_type": "code",
   "execution_count": 8,
   "metadata": {
    "colab": {},
    "colab_type": "code",
    "id": "UN3JCqaIF08n"
   },
   "outputs": [],
   "source": [
    "class EdgeConv(nn.Module):\n",
    "    r\"\"\"EdgeConv layer.\n",
    "\n",
    "    Introduced in \"`Dynamic Graph CNN for Learning on Point Clouds\n",
    "    <https://arxiv.org/pdf/1801.07829>`__\".  Can be described as follows:\n",
    "\n",
    "    .. math::\n",
    "       x_i^{(l+1)} = \\max_{j \\in \\mathcal{N}(i)} \\mathrm{ReLU}(\n",
    "       \\Theta \\cdot (x_j^{(l)} - x_i^{(l)}) + \\Phi \\cdot x_i^{(l)})\n",
    "\n",
    "    where :math:`\\mathcal{N}(i)` is the neighbor of :math:`i`.\n",
    "\n",
    "    Parameters\n",
    "    ----------\n",
    "    in_feat : int\n",
    "        Input feature size.\n",
    "    out_feat : int\n",
    "        Output feature size.\n",
    "    batch_norm : bool\n",
    "        Whether to include batch normalization on messages.\n",
    "    \"\"\"\n",
    "    def __init__(self,\n",
    "                 in_feat,\n",
    "                 out_feat,\n",
    "                 batch_norm=False):\n",
    "        super(EdgeConv, self).__init__()\n",
    "        self.batch_norm = batch_norm\n",
    "\n",
    "        self.theta = nn.Linear(in_feat, out_feat)\n",
    "        self.phi = nn.Linear(in_feat, out_feat)\n",
    "\n",
    "        if batch_norm:\n",
    "            self.bn = nn.BatchNorm1d(out_feat)\n",
    "\n",
    "    def message(self, edges):\n",
    "        \"\"\"The message computation function.\n",
    "        \"\"\"\n",
    "        theta_x = self.theta(edges.dst['x'] - edges.src['x'])\n",
    "        phi_x = self.phi(edges.src['x'])\n",
    "        return {'e': theta_x + phi_x}\n",
    "\n",
    "    def forward(self, g, h):\n",
    "        \"\"\"Forward computation\n",
    "\n",
    "        Parameters\n",
    "        ----------\n",
    "        g : DGLGraph\n",
    "            The graph.\n",
    "        h : Tensor or pair of tensors\n",
    "            :math:`(N, D)` where :math:`N` is the number of nodes and\n",
    "            :math:`D` is the number of feature dimensions.\n",
    "\n",
    "            If a pair of tensors is given, the graph must be a uni-bipartite graph\n",
    "            with only one edge type, and the two tensors must have the same\n",
    "            dimensionality on all except the first axis.\n",
    "        Returns\n",
    "        -------\n",
    "        torch.Tensor\n",
    "            New node features.\n",
    "        \"\"\"\n",
    "        with g.local_scope():\n",
    "            h_src, h_dst = expand_as_pair(h)\n",
    "            g.srcdata['x'] = h_src\n",
    "            g.dstdata['x'] = h_dst\n",
    "            if not self.batch_norm:\n",
    "                g.update_all(self.message, fn.max('e', 'x'))\n",
    "            else:\n",
    "                g.apply_edges(self.message)\n",
    "                # Although the official implementation includes a per-edge\n",
    "                # batch norm within EdgeConv, I choose to replace it with a\n",
    "                # global batch norm for a number of reasons:\n",
    "                #\n",
    "                # (1) When the point clouds within each batch do not have the\n",
    "                #     same number of points, batch norm would not work.\n",
    "                #\n",
    "                # (2) Even if the point clouds always have the same number of\n",
    "                #     points, the points may as well be shuffled even with the\n",
    "                #     same (type of) object (and the official implementation\n",
    "                #     *does* shuffle the points of the same example for each\n",
    "                #     epoch).\n",
    "                #\n",
    "                #     For example, the first point of a point cloud of an\n",
    "                #     airplane does not always necessarily reside at its nose.\n",
    "                #\n",
    "                #     In this case, the learned statistics of each position\n",
    "                #     by batch norm is not as meaningful as those learned from\n",
    "                #     images.\n",
    "                g.edata['e'] = self.bn(g.edata['e'])\n",
    "                g.update_all(fn.copy_e('e', 'e'), fn.max('e', 'x'))\n",
    "            return g.dstdata['x']"
   ]
  },
  {
   "cell_type": "code",
   "execution_count": 9,
   "metadata": {
    "colab": {},
    "colab_type": "code",
    "id": "PA82CRk0GYfS"
   },
   "outputs": [],
   "source": [
    "class Model(nn.Module):\n",
    "    def __init__(self, k, feature_dims, emb_dims, output_classes, input_dims=3,\n",
    "                 dropout_prob=0.5):\n",
    "        super(Model, self).__init__()\n",
    "\n",
    "        self.nng = KNNGraph(k)\n",
    "        self.conv = nn.ModuleList()\n",
    "\n",
    "        self.num_layers = len(feature_dims)\n",
    "        for i in range(self.num_layers):\n",
    "            self.conv.append(EdgeConv(\n",
    "                feature_dims[i - 1] if i > 0 else input_dims,\n",
    "                feature_dims[i],\n",
    "                batch_norm=True))\n",
    "\n",
    "        self.proj = nn.Linear(sum(feature_dims), emb_dims[0])\n",
    "\n",
    "        self.embs = nn.ModuleList()\n",
    "        self.bn_embs = nn.ModuleList()\n",
    "        self.dropouts = nn.ModuleList()\n",
    "\n",
    "        self.num_embs = len(emb_dims) - 1\n",
    "        for i in range(1, self.num_embs + 1):\n",
    "            self.embs.append(nn.Linear(\n",
    "                # * 2 because of concatenation of max- and mean-pooling\n",
    "                emb_dims[i - 1] if i > 1 else (emb_dims[i - 1] * 2),\n",
    "                emb_dims[i]))\n",
    "            self.bn_embs.append(nn.BatchNorm1d(emb_dims[i]))\n",
    "            self.dropouts.append(nn.Dropout(dropout_prob))\n",
    "\n",
    "        self.proj_output = nn.Linear(emb_dims[-1], output_classes)\n",
    "\n",
    "    def forward(self, x):\n",
    "        hs = []\n",
    "        batch_size, n_points, x_dims = x.shape\n",
    "        h = x\n",
    "\n",
    "        for i in range(self.num_layers):\n",
    "            g = self.nng(h)\n",
    "            h = h.view(batch_size * n_points, -1)\n",
    "            h = self.conv[i](g, h)\n",
    "            h = F_t.leaky_relu(h, 0.2)\n",
    "            h = h.view(batch_size, n_points, -1)\n",
    "            hs.append(h)\n",
    "\n",
    "        h = torch.cat(hs, 2)\n",
    "        h = self.proj(h)\n",
    "        h_max, _ = torch.max(h, 1)\n",
    "        h_avg = torch.mean(h, 1)\n",
    "        h = torch.cat([h_max, h_avg], 1)\n",
    "\n",
    "        for i in range(self.num_embs):\n",
    "            h = self.embs[i](h)\n",
    "            h = self.bn_embs[i](h)\n",
    "            h = F_t.leaky_relu(h, 0.2)\n",
    "            h = self.dropouts[i](h)\n",
    "\n",
    "        h = self.proj_output(h)\n",
    "        return h\n"
   ]
  },
  {
   "cell_type": "code",
   "execution_count": 10,
   "metadata": {
    "colab": {},
    "colab_type": "code",
    "id": "u5aVVB0cHmlF"
   },
   "outputs": [],
   "source": [
    "def compute_loss(logits, y, eps=0.2):\n",
    "    num_classes = logits.shape[1]\n",
    "    one_hot = torch.zeros_like(logits).scatter_(1, y.view(-1, 1), 1)\n",
    "    one_hot = one_hot * (1 - eps) + (1 - one_hot) * eps / (num_classes - 1)\n",
    "    log_prob = F_t.log_softmax(logits, 1)\n",
    "    loss = -(one_hot * log_prob).sum(1).mean()\n",
    "    return loss"
   ]
  },
  {
   "cell_type": "markdown",
   "metadata": {
    "colab_type": "text",
    "id": "Z_bjb-kYLUns"
   },
   "source": [
    "### Classes for custom dataset"
   ]
  },
  {
   "cell_type": "code",
   "execution_count": 11,
   "metadata": {
    "colab": {},
    "colab_type": "code",
    "id": "FlHErHQALX-G"
   },
   "outputs": [],
   "source": [
    "class ModelNet(object):\n",
    "    def __init__(self, path, num_points):\n",
    "        import h5py\n",
    "        self.f = h5py.File(path)\n",
    "        self.num_points = num_points\n",
    "\n",
    "        self.n_train = self.f['train/data'].shape[0]\n",
    "        self.n_valid = int(self.n_train / 5)\n",
    "        self.n_train -= self.n_valid\n",
    "        self.n_test = self.f['test/data'].shape[0]\n",
    "\n",
    "    def train(self):\n",
    "        return ModelNetDataset(self, 'train')\n",
    "\n",
    "    def valid(self):\n",
    "        return ModelNetDataset(self, 'valid')\n",
    "\n",
    "    def test(self):\n",
    "        return ModelNetDataset(self, 'test')\n",
    "\n",
    "class ModelNetDataset(Dataset):\n",
    "    def __init__(self, modelnet, mode):\n",
    "        super(ModelNetDataset, self).__init__()\n",
    "        self.num_points = modelnet.num_points\n",
    "        self.mode = mode\n",
    "\n",
    "        if mode == 'train':\n",
    "            self.data = modelnet.f['train/data'][:modelnet.n_train]\n",
    "            self.label = modelnet.f['train/label'][:modelnet.n_train]\n",
    "        elif mode == 'valid':\n",
    "            self.data = modelnet.f['train/data'][modelnet.n_train:]\n",
    "            self.label = modelnet.f['train/label'][modelnet.n_train:]\n",
    "        elif mode == 'test':\n",
    "            self.data = modelnet.f['test/data'].value\n",
    "            self.label = modelnet.f['test/label'].value\n",
    "\n",
    "    def translate(self, x, scale=(2/3, 3/2), shift=(-0.2, 0.2)):\n",
    "        xyz1 = np.random.uniform(low=scale[0], high=scale[1], size=[3])\n",
    "        xyz2 = np.random.uniform(low=shift[0], high=shift[1], size=[3])\n",
    "        x = np.add(np.multiply(x, xyz1), xyz2).astype('float32')\n",
    "        return x\n",
    "\n",
    "    def __len__(self):\n",
    "        return self.data.shape[0]\n",
    "\n",
    "    def __getitem__(self, i):\n",
    "        x = self.data[i][:self.num_points]\n",
    "        y = self.label[i]\n",
    "        if self.mode == 'train':\n",
    "            x = self.translate(x)\n",
    "            np.random.shuffle(x)\n",
    "        return x, y"
   ]
  },
  {
   "cell_type": "code",
   "execution_count": 12,
   "metadata": {
    "colab": {},
    "colab_type": "code",
    "id": "GA4gX3WYHncd"
   },
   "outputs": [],
   "source": [
    "num_workers = 0\n",
    "batch_size = 10\n",
    "data_filename = 'modelnet40-sampled-2048.h5'\n",
    "local_path = '' or os.path.join(get_download_dir(), data_filename)\n",
    "num_epochs = 50\n"
   ]
  },
  {
   "cell_type": "code",
   "execution_count": 13,
   "metadata": {
    "colab": {
     "base_uri": "https://localhost:8080/",
     "height": 34
    },
    "colab_type": "code",
    "id": "n2umWkg-Iu5y",
    "outputId": "bd3e8854-b809-442a-b94f-9e32e613c4e2"
   },
   "outputs": [
    {
     "data": {
      "text/plain": [
       "'C:\\\\Users\\\\Ran\\\\.dgl\\\\modelnet40-sampled-2048.h5'"
      ]
     },
     "execution_count": 13,
     "metadata": {},
     "output_type": "execute_result"
    }
   ],
   "source": [
    "local_path"
   ]
  },
  {
   "cell_type": "code",
   "execution_count": 14,
   "metadata": {
    "colab": {},
    "colab_type": "code",
    "id": "4mIPAU-FI2jZ"
   },
   "outputs": [
    {
     "name": "stdout",
     "output_type": "stream",
     "text": [
      "Downloading C:\\Users\\Ran\\.dgl\\modelnet40-sampled-2048.h5 from https://data.dgl.ai/dataset/modelnet40-sampled-2048.h5...\n"
     ]
    }
   ],
   "source": [
    "if not os.path.exists(local_path):\n",
    "    download('https://data.dgl.ai/dataset/modelnet40-sampled-2048.h5', local_path)\n"
   ]
  },
  {
   "cell_type": "code",
   "execution_count": 15,
   "metadata": {
    "colab": {
     "base_uri": "https://localhost:8080/",
     "height": 34
    },
    "colab_type": "code",
    "id": "-_fdUlCjI78w",
    "outputId": "0ec75199-96f0-4850-9df1-c8da8448f567"
   },
   "outputs": [
    {
     "name": "stderr",
     "output_type": "stream",
     "text": [
      "'ls' is not recognized as an internal or external command,\n",
      "operable program or batch file.\n"
     ]
    }
   ],
   "source": [
    "!ls /root/.dgl/"
   ]
  },
  {
   "cell_type": "code",
   "execution_count": 16,
   "metadata": {
    "colab": {},
    "colab_type": "code",
    "id": "dKNOFG3LJM41"
   },
   "outputs": [],
   "source": [
    "#from functools import partial\n",
    "CustomDataLoader = partial(\n",
    "        DataLoader,\n",
    "        num_workers=num_workers,\n",
    "        batch_size=batch_size,\n",
    "        shuffle=True,\n",
    "        drop_last=True)"
   ]
  },
  {
   "cell_type": "code",
   "execution_count": 17,
   "metadata": {
    "colab": {},
    "colab_type": "code",
    "id": "lbPmpFUsJRrN"
   },
   "outputs": [],
   "source": [
    "dev = torch.device(\"cuda\" if torch.cuda.is_available() else \"cpu\")"
   ]
  },
  {
   "cell_type": "code",
   "execution_count": 18,
   "metadata": {
    "colab": {},
    "colab_type": "code",
    "id": "qrXk_qeEJhNy"
   },
   "outputs": [],
   "source": [
    "def train(model, opt, scheduler, train_loader, dev):\n",
    "    scheduler.step()\n",
    "\n",
    "    model.train()\n",
    "\n",
    "    total_loss = 0\n",
    "    num_batches = 0\n",
    "    total_correct = 0\n",
    "    count = 0\n",
    "    with tqdm.tqdm(train_loader, ascii=True) as tq:\n",
    "        for data, label in tq:\n",
    "            num_examples = label.shape[0]\n",
    "            data, label = data.to(dev), label.to(dev).squeeze().long()\n",
    "            opt.zero_grad()\n",
    "            logits = model(data)\n",
    "            loss = compute_loss(logits, label)\n",
    "            loss.backward()\n",
    "            opt.step()\n",
    "\n",
    "            _, preds = logits.max(1)\n",
    "\n",
    "            num_batches += 1\n",
    "            count += num_examples\n",
    "            loss = loss.item()\n",
    "            correct = (preds == label).sum().item()\n",
    "            total_loss += loss\n",
    "            total_correct += correct\n",
    "\n",
    "            tq.set_postfix({\n",
    "                'Loss': '%.5f' % loss,\n",
    "                'AvgLoss': '%.5f' % (total_loss / num_batches),\n",
    "                'Acc': '%.5f' % (correct / num_examples),\n",
    "                'AvgAcc': '%.5f' % (total_correct / count)})\n"
   ]
  },
  {
   "cell_type": "code",
   "execution_count": 19,
   "metadata": {
    "colab": {},
    "colab_type": "code",
    "id": "jPh9udYyKT9q"
   },
   "outputs": [],
   "source": [
    "def evaluate(model, test_loader, dev):\n",
    "    model.eval()\n",
    "\n",
    "    total_correct = 0\n",
    "    count = 0\n",
    "\n",
    "    with torch.no_grad():\n",
    "        with tqdm.tqdm(test_loader, ascii=True) as tq:\n",
    "            for data, label in tq:\n",
    "                num_examples = label.shape[0]\n",
    "                data, label = data.to(dev), label.to(dev).squeeze().long()\n",
    "                logits = model(data)\n",
    "                _, preds = logits.max(1)\n",
    "\n",
    "                correct = (preds == label).sum().item()\n",
    "                total_correct += correct\n",
    "                count += num_examples\n",
    "\n",
    "                tq.set_postfix({\n",
    "                    'Acc': '%.5f' % (correct / num_examples),\n",
    "                    'AvgAcc': '%.5f' % (total_correct / count)})\n",
    "\n",
    "    return total_correct / count"
   ]
  },
  {
   "cell_type": "code",
   "execution_count": 20,
   "metadata": {
    "colab": {
     "base_uri": "https://localhost:8080/",
     "height": 104
    },
    "colab_type": "code",
    "id": "LSe55fO5KXYi",
    "outputId": "85625ecf-5cc3-437f-f273-aae807e4897e"
   },
   "outputs": [
    {
     "name": "stderr",
     "output_type": "stream",
     "text": [
      "C:\\Users\\Ran\\Anaconda3\\envs\\deep\\lib\\site-packages\\ipykernel_launcher.py:4: H5pyDeprecationWarning: The default file mode will change to 'r' (read-only) in h5py 3.0. To suppress this warning, pass the mode you need to h5py.File(), or set the global default h5.get_config().default_file_mode, or set the environment variable H5PY_DEFAULT_READONLY=1. Available modes are: 'r', 'r+', 'w', 'w-'/'x', 'a'. See the docs for details.\n",
      "  after removing the cwd from sys.path.\n",
      "C:\\Users\\Ran\\Anaconda3\\envs\\deep\\lib\\site-packages\\ipykernel_launcher.py:34: H5pyDeprecationWarning: dataset.value has been deprecated. Use dataset[()] instead.\n",
      "C:\\Users\\Ran\\Anaconda3\\envs\\deep\\lib\\site-packages\\ipykernel_launcher.py:35: H5pyDeprecationWarning: dataset.value has been deprecated. Use dataset[()] instead.\n"
     ]
    }
   ],
   "source": [
    "model = Model(20, [64, 64, 128, 256], [512, 512, 256], 40)\n",
    "model = model.to(dev)\n",
    "# if args.load_model_path:\n",
    "#     model.load_state_dict(torch.load(args.load_model_path, map_location=dev))\n",
    "\n",
    "opt = optim.SGD(model.parameters(), lr=0.1, momentum=0.9, weight_decay=1e-4)\n",
    "\n",
    "scheduler = optim.lr_scheduler.CosineAnnealingLR(opt, num_epochs, eta_min=0.001)\n",
    "\n",
    "modelnet = ModelNet(local_path, 1024)\n",
    "\n",
    "train_loader = CustomDataLoader(modelnet.train())\n",
    "valid_loader = CustomDataLoader(modelnet.valid())\n",
    "test_loader = CustomDataLoader(modelnet.test())\n",
    "\n",
    "best_valid_acc = 0\n",
    "best_test_acc = 0\n"
   ]
  },
  {
   "cell_type": "code",
   "execution_count": 21,
   "metadata": {
    "colab": {
     "base_uri": "https://localhost:8080/",
     "height": 1000
    },
    "colab_type": "code",
    "id": "w5D-ypAlKbq5",
    "outputId": "c2963c28-2884-4e35-874f-d929d481e202"
   },
   "outputs": [
    {
     "name": "stderr",
     "output_type": "stream",
     "text": [
      "\r",
      "  0%|                                                                                          | 0/196 [00:00<?, ?it/s]"
     ]
    },
    {
     "name": "stdout",
     "output_type": "stream",
     "text": [
      "Epoch #0 Validating\n"
     ]
    },
    {
     "name": "stderr",
     "output_type": "stream",
     "text": [
      " 14%|#######4                                            | 28/196 [06:13<37:18, 13.33s/it, Acc=0.00000, AvgAcc=0.01429]\n"
     ]
    },
    {
     "ename": "KeyboardInterrupt",
     "evalue": "",
     "output_type": "error",
     "traceback": [
      "\u001b[1;31m---------------------------------------------------------------------------\u001b[0m",
      "\u001b[1;31mKeyboardInterrupt\u001b[0m                         Traceback (most recent call last)",
      "\u001b[1;32m<ipython-input-21-df94c1adc16a>\u001b[0m in \u001b[0;36m<module>\u001b[1;34m\u001b[0m\n\u001b[0;32m      1\u001b[0m \u001b[1;32mfor\u001b[0m \u001b[0mepoch\u001b[0m \u001b[1;32min\u001b[0m \u001b[0mrange\u001b[0m\u001b[1;33m(\u001b[0m\u001b[0mnum_epochs\u001b[0m\u001b[1;33m)\u001b[0m\u001b[1;33m:\u001b[0m\u001b[1;33m\u001b[0m\u001b[1;33m\u001b[0m\u001b[0m\n\u001b[0;32m      2\u001b[0m     \u001b[0mprint\u001b[0m\u001b[1;33m(\u001b[0m\u001b[1;34m'Epoch #%d Validating'\u001b[0m \u001b[1;33m%\u001b[0m \u001b[0mepoch\u001b[0m\u001b[1;33m)\u001b[0m\u001b[1;33m\u001b[0m\u001b[1;33m\u001b[0m\u001b[0m\n\u001b[1;32m----> 3\u001b[1;33m     \u001b[0mvalid_acc\u001b[0m \u001b[1;33m=\u001b[0m \u001b[0mevaluate\u001b[0m\u001b[1;33m(\u001b[0m\u001b[0mmodel\u001b[0m\u001b[1;33m,\u001b[0m \u001b[0mvalid_loader\u001b[0m\u001b[1;33m,\u001b[0m \u001b[0mdev\u001b[0m\u001b[1;33m)\u001b[0m\u001b[1;33m\u001b[0m\u001b[1;33m\u001b[0m\u001b[0m\n\u001b[0m\u001b[0;32m      4\u001b[0m     \u001b[0mtest_acc\u001b[0m \u001b[1;33m=\u001b[0m \u001b[0mevaluate\u001b[0m\u001b[1;33m(\u001b[0m\u001b[0mmodel\u001b[0m\u001b[1;33m,\u001b[0m \u001b[0mtest_loader\u001b[0m\u001b[1;33m,\u001b[0m \u001b[0mdev\u001b[0m\u001b[1;33m)\u001b[0m\u001b[1;33m\u001b[0m\u001b[1;33m\u001b[0m\u001b[0m\n\u001b[0;32m      5\u001b[0m     \u001b[1;32mif\u001b[0m \u001b[0mvalid_acc\u001b[0m \u001b[1;33m>\u001b[0m \u001b[0mbest_valid_acc\u001b[0m\u001b[1;33m:\u001b[0m\u001b[1;33m\u001b[0m\u001b[1;33m\u001b[0m\u001b[0m\n",
      "\u001b[1;32m<ipython-input-19-3d20f162c58f>\u001b[0m in \u001b[0;36mevaluate\u001b[1;34m(model, test_loader, dev)\u001b[0m\n\u001b[0;32m     10\u001b[0m                 \u001b[0mnum_examples\u001b[0m \u001b[1;33m=\u001b[0m \u001b[0mlabel\u001b[0m\u001b[1;33m.\u001b[0m\u001b[0mshape\u001b[0m\u001b[1;33m[\u001b[0m\u001b[1;36m0\u001b[0m\u001b[1;33m]\u001b[0m\u001b[1;33m\u001b[0m\u001b[1;33m\u001b[0m\u001b[0m\n\u001b[0;32m     11\u001b[0m                 \u001b[0mdata\u001b[0m\u001b[1;33m,\u001b[0m \u001b[0mlabel\u001b[0m \u001b[1;33m=\u001b[0m \u001b[0mdata\u001b[0m\u001b[1;33m.\u001b[0m\u001b[0mto\u001b[0m\u001b[1;33m(\u001b[0m\u001b[0mdev\u001b[0m\u001b[1;33m)\u001b[0m\u001b[1;33m,\u001b[0m \u001b[0mlabel\u001b[0m\u001b[1;33m.\u001b[0m\u001b[0mto\u001b[0m\u001b[1;33m(\u001b[0m\u001b[0mdev\u001b[0m\u001b[1;33m)\u001b[0m\u001b[1;33m.\u001b[0m\u001b[0msqueeze\u001b[0m\u001b[1;33m(\u001b[0m\u001b[1;33m)\u001b[0m\u001b[1;33m.\u001b[0m\u001b[0mlong\u001b[0m\u001b[1;33m(\u001b[0m\u001b[1;33m)\u001b[0m\u001b[1;33m\u001b[0m\u001b[1;33m\u001b[0m\u001b[0m\n\u001b[1;32m---> 12\u001b[1;33m                 \u001b[0mlogits\u001b[0m \u001b[1;33m=\u001b[0m \u001b[0mmodel\u001b[0m\u001b[1;33m(\u001b[0m\u001b[0mdata\u001b[0m\u001b[1;33m)\u001b[0m\u001b[1;33m\u001b[0m\u001b[1;33m\u001b[0m\u001b[0m\n\u001b[0m\u001b[0;32m     13\u001b[0m                 \u001b[0m_\u001b[0m\u001b[1;33m,\u001b[0m \u001b[0mpreds\u001b[0m \u001b[1;33m=\u001b[0m \u001b[0mlogits\u001b[0m\u001b[1;33m.\u001b[0m\u001b[0mmax\u001b[0m\u001b[1;33m(\u001b[0m\u001b[1;36m1\u001b[0m\u001b[1;33m)\u001b[0m\u001b[1;33m\u001b[0m\u001b[1;33m\u001b[0m\u001b[0m\n\u001b[0;32m     14\u001b[0m \u001b[1;33m\u001b[0m\u001b[0m\n",
      "\u001b[1;32m~\\Anaconda3\\envs\\deep\\lib\\site-packages\\torch\\nn\\modules\\module.py\u001b[0m in \u001b[0;36m__call__\u001b[1;34m(self, *input, **kwargs)\u001b[0m\n\u001b[0;32m    530\u001b[0m             \u001b[0mresult\u001b[0m \u001b[1;33m=\u001b[0m \u001b[0mself\u001b[0m\u001b[1;33m.\u001b[0m\u001b[0m_slow_forward\u001b[0m\u001b[1;33m(\u001b[0m\u001b[1;33m*\u001b[0m\u001b[0minput\u001b[0m\u001b[1;33m,\u001b[0m \u001b[1;33m**\u001b[0m\u001b[0mkwargs\u001b[0m\u001b[1;33m)\u001b[0m\u001b[1;33m\u001b[0m\u001b[1;33m\u001b[0m\u001b[0m\n\u001b[0;32m    531\u001b[0m         \u001b[1;32melse\u001b[0m\u001b[1;33m:\u001b[0m\u001b[1;33m\u001b[0m\u001b[1;33m\u001b[0m\u001b[0m\n\u001b[1;32m--> 532\u001b[1;33m             \u001b[0mresult\u001b[0m \u001b[1;33m=\u001b[0m \u001b[0mself\u001b[0m\u001b[1;33m.\u001b[0m\u001b[0mforward\u001b[0m\u001b[1;33m(\u001b[0m\u001b[1;33m*\u001b[0m\u001b[0minput\u001b[0m\u001b[1;33m,\u001b[0m \u001b[1;33m**\u001b[0m\u001b[0mkwargs\u001b[0m\u001b[1;33m)\u001b[0m\u001b[1;33m\u001b[0m\u001b[1;33m\u001b[0m\u001b[0m\n\u001b[0m\u001b[0;32m    533\u001b[0m         \u001b[1;32mfor\u001b[0m \u001b[0mhook\u001b[0m \u001b[1;32min\u001b[0m \u001b[0mself\u001b[0m\u001b[1;33m.\u001b[0m\u001b[0m_forward_hooks\u001b[0m\u001b[1;33m.\u001b[0m\u001b[0mvalues\u001b[0m\u001b[1;33m(\u001b[0m\u001b[1;33m)\u001b[0m\u001b[1;33m:\u001b[0m\u001b[1;33m\u001b[0m\u001b[1;33m\u001b[0m\u001b[0m\n\u001b[0;32m    534\u001b[0m             \u001b[0mhook_result\u001b[0m \u001b[1;33m=\u001b[0m \u001b[0mhook\u001b[0m\u001b[1;33m(\u001b[0m\u001b[0mself\u001b[0m\u001b[1;33m,\u001b[0m \u001b[0minput\u001b[0m\u001b[1;33m,\u001b[0m \u001b[0mresult\u001b[0m\u001b[1;33m)\u001b[0m\u001b[1;33m\u001b[0m\u001b[1;33m\u001b[0m\u001b[0m\n",
      "\u001b[1;32m<ipython-input-9-ec7c511c2935>\u001b[0m in \u001b[0;36mforward\u001b[1;34m(self, x)\u001b[0m\n\u001b[0;32m     39\u001b[0m             \u001b[0mg\u001b[0m \u001b[1;33m=\u001b[0m \u001b[0mself\u001b[0m\u001b[1;33m.\u001b[0m\u001b[0mnng\u001b[0m\u001b[1;33m(\u001b[0m\u001b[0mh\u001b[0m\u001b[1;33m)\u001b[0m\u001b[1;33m\u001b[0m\u001b[1;33m\u001b[0m\u001b[0m\n\u001b[0;32m     40\u001b[0m             \u001b[0mh\u001b[0m \u001b[1;33m=\u001b[0m \u001b[0mh\u001b[0m\u001b[1;33m.\u001b[0m\u001b[0mview\u001b[0m\u001b[1;33m(\u001b[0m\u001b[0mbatch_size\u001b[0m \u001b[1;33m*\u001b[0m \u001b[0mn_points\u001b[0m\u001b[1;33m,\u001b[0m \u001b[1;33m-\u001b[0m\u001b[1;36m1\u001b[0m\u001b[1;33m)\u001b[0m\u001b[1;33m\u001b[0m\u001b[1;33m\u001b[0m\u001b[0m\n\u001b[1;32m---> 41\u001b[1;33m             \u001b[0mh\u001b[0m \u001b[1;33m=\u001b[0m \u001b[0mself\u001b[0m\u001b[1;33m.\u001b[0m\u001b[0mconv\u001b[0m\u001b[1;33m[\u001b[0m\u001b[0mi\u001b[0m\u001b[1;33m]\u001b[0m\u001b[1;33m(\u001b[0m\u001b[0mg\u001b[0m\u001b[1;33m,\u001b[0m \u001b[0mh\u001b[0m\u001b[1;33m)\u001b[0m\u001b[1;33m\u001b[0m\u001b[1;33m\u001b[0m\u001b[0m\n\u001b[0m\u001b[0;32m     42\u001b[0m             \u001b[0mh\u001b[0m \u001b[1;33m=\u001b[0m \u001b[0mF_t\u001b[0m\u001b[1;33m.\u001b[0m\u001b[0mleaky_relu\u001b[0m\u001b[1;33m(\u001b[0m\u001b[0mh\u001b[0m\u001b[1;33m,\u001b[0m \u001b[1;36m0.2\u001b[0m\u001b[1;33m)\u001b[0m\u001b[1;33m\u001b[0m\u001b[1;33m\u001b[0m\u001b[0m\n\u001b[0;32m     43\u001b[0m             \u001b[0mh\u001b[0m \u001b[1;33m=\u001b[0m \u001b[0mh\u001b[0m\u001b[1;33m.\u001b[0m\u001b[0mview\u001b[0m\u001b[1;33m(\u001b[0m\u001b[0mbatch_size\u001b[0m\u001b[1;33m,\u001b[0m \u001b[0mn_points\u001b[0m\u001b[1;33m,\u001b[0m \u001b[1;33m-\u001b[0m\u001b[1;36m1\u001b[0m\u001b[1;33m)\u001b[0m\u001b[1;33m\u001b[0m\u001b[1;33m\u001b[0m\u001b[0m\n",
      "\u001b[1;32m~\\Anaconda3\\envs\\deep\\lib\\site-packages\\torch\\nn\\modules\\module.py\u001b[0m in \u001b[0;36m__call__\u001b[1;34m(self, *input, **kwargs)\u001b[0m\n\u001b[0;32m    530\u001b[0m             \u001b[0mresult\u001b[0m \u001b[1;33m=\u001b[0m \u001b[0mself\u001b[0m\u001b[1;33m.\u001b[0m\u001b[0m_slow_forward\u001b[0m\u001b[1;33m(\u001b[0m\u001b[1;33m*\u001b[0m\u001b[0minput\u001b[0m\u001b[1;33m,\u001b[0m \u001b[1;33m**\u001b[0m\u001b[0mkwargs\u001b[0m\u001b[1;33m)\u001b[0m\u001b[1;33m\u001b[0m\u001b[1;33m\u001b[0m\u001b[0m\n\u001b[0;32m    531\u001b[0m         \u001b[1;32melse\u001b[0m\u001b[1;33m:\u001b[0m\u001b[1;33m\u001b[0m\u001b[1;33m\u001b[0m\u001b[0m\n\u001b[1;32m--> 532\u001b[1;33m             \u001b[0mresult\u001b[0m \u001b[1;33m=\u001b[0m \u001b[0mself\u001b[0m\u001b[1;33m.\u001b[0m\u001b[0mforward\u001b[0m\u001b[1;33m(\u001b[0m\u001b[1;33m*\u001b[0m\u001b[0minput\u001b[0m\u001b[1;33m,\u001b[0m \u001b[1;33m**\u001b[0m\u001b[0mkwargs\u001b[0m\u001b[1;33m)\u001b[0m\u001b[1;33m\u001b[0m\u001b[1;33m\u001b[0m\u001b[0m\n\u001b[0m\u001b[0;32m    533\u001b[0m         \u001b[1;32mfor\u001b[0m \u001b[0mhook\u001b[0m \u001b[1;32min\u001b[0m \u001b[0mself\u001b[0m\u001b[1;33m.\u001b[0m\u001b[0m_forward_hooks\u001b[0m\u001b[1;33m.\u001b[0m\u001b[0mvalues\u001b[0m\u001b[1;33m(\u001b[0m\u001b[1;33m)\u001b[0m\u001b[1;33m:\u001b[0m\u001b[1;33m\u001b[0m\u001b[1;33m\u001b[0m\u001b[0m\n\u001b[0;32m    534\u001b[0m             \u001b[0mhook_result\u001b[0m \u001b[1;33m=\u001b[0m \u001b[0mhook\u001b[0m\u001b[1;33m(\u001b[0m\u001b[0mself\u001b[0m\u001b[1;33m,\u001b[0m \u001b[0minput\u001b[0m\u001b[1;33m,\u001b[0m \u001b[0mresult\u001b[0m\u001b[1;33m)\u001b[0m\u001b[1;33m\u001b[0m\u001b[1;33m\u001b[0m\u001b[0m\n",
      "\u001b[1;32m<ipython-input-8-a190faf7a2bc>\u001b[0m in \u001b[0;36mforward\u001b[1;34m(self, g, h)\u001b[0m\n\u001b[0;32m     66\u001b[0m                 \u001b[0mg\u001b[0m\u001b[1;33m.\u001b[0m\u001b[0mupdate_all\u001b[0m\u001b[1;33m(\u001b[0m\u001b[0mself\u001b[0m\u001b[1;33m.\u001b[0m\u001b[0mmessage\u001b[0m\u001b[1;33m,\u001b[0m \u001b[0mfn\u001b[0m\u001b[1;33m.\u001b[0m\u001b[0mmax\u001b[0m\u001b[1;33m(\u001b[0m\u001b[1;34m'e'\u001b[0m\u001b[1;33m,\u001b[0m \u001b[1;34m'x'\u001b[0m\u001b[1;33m)\u001b[0m\u001b[1;33m)\u001b[0m\u001b[1;33m\u001b[0m\u001b[1;33m\u001b[0m\u001b[0m\n\u001b[0;32m     67\u001b[0m             \u001b[1;32melse\u001b[0m\u001b[1;33m:\u001b[0m\u001b[1;33m\u001b[0m\u001b[1;33m\u001b[0m\u001b[0m\n\u001b[1;32m---> 68\u001b[1;33m                 \u001b[0mg\u001b[0m\u001b[1;33m.\u001b[0m\u001b[0mapply_edges\u001b[0m\u001b[1;33m(\u001b[0m\u001b[0mself\u001b[0m\u001b[1;33m.\u001b[0m\u001b[0mmessage\u001b[0m\u001b[1;33m)\u001b[0m\u001b[1;33m\u001b[0m\u001b[1;33m\u001b[0m\u001b[0m\n\u001b[0m\u001b[0;32m     69\u001b[0m                 \u001b[1;31m# Although the official implementation includes a per-edge\u001b[0m\u001b[1;33m\u001b[0m\u001b[1;33m\u001b[0m\u001b[1;33m\u001b[0m\u001b[0m\n\u001b[0;32m     70\u001b[0m                 \u001b[1;31m# batch norm within EdgeConv, I choose to replace it with a\u001b[0m\u001b[1;33m\u001b[0m\u001b[1;33m\u001b[0m\u001b[1;33m\u001b[0m\u001b[0m\n",
      "\u001b[1;32m~\\Anaconda3\\envs\\deep\\lib\\site-packages\\dgl\\graph.py\u001b[0m in \u001b[0;36mapply_edges\u001b[1;34m(self, func, edges, inplace)\u001b[0m\n\u001b[0;32m   2637\u001b[0m         \u001b[1;32mwith\u001b[0m \u001b[0mir\u001b[0m\u001b[1;33m.\u001b[0m\u001b[0mprog\u001b[0m\u001b[1;33m(\u001b[0m\u001b[1;33m)\u001b[0m \u001b[1;32mas\u001b[0m \u001b[0mprog\u001b[0m\u001b[1;33m:\u001b[0m\u001b[1;33m\u001b[0m\u001b[1;33m\u001b[0m\u001b[0m\n\u001b[0;32m   2638\u001b[0m             \u001b[0mscheduler\u001b[0m\u001b[1;33m.\u001b[0m\u001b[0mschedule_apply_edges\u001b[0m\u001b[1;33m(\u001b[0m\u001b[0mAdaptedDGLGraph\u001b[0m\u001b[1;33m(\u001b[0m\u001b[0mself\u001b[0m\u001b[1;33m)\u001b[0m\u001b[1;33m,\u001b[0m \u001b[0mu\u001b[0m\u001b[1;33m,\u001b[0m \u001b[0mv\u001b[0m\u001b[1;33m,\u001b[0m \u001b[0meid\u001b[0m\u001b[1;33m,\u001b[0m \u001b[0mfunc\u001b[0m\u001b[1;33m,\u001b[0m \u001b[0minplace\u001b[0m\u001b[1;33m)\u001b[0m\u001b[1;33m\u001b[0m\u001b[1;33m\u001b[0m\u001b[0m\n\u001b[1;32m-> 2639\u001b[1;33m             \u001b[0mRuntime\u001b[0m\u001b[1;33m.\u001b[0m\u001b[0mrun\u001b[0m\u001b[1;33m(\u001b[0m\u001b[0mprog\u001b[0m\u001b[1;33m)\u001b[0m\u001b[1;33m\u001b[0m\u001b[1;33m\u001b[0m\u001b[0m\n\u001b[0m\u001b[0;32m   2640\u001b[0m \u001b[1;33m\u001b[0m\u001b[0m\n\u001b[0;32m   2641\u001b[0m     \u001b[1;32mdef\u001b[0m \u001b[0mgroup_apply_edges\u001b[0m\u001b[1;33m(\u001b[0m\u001b[0mself\u001b[0m\u001b[1;33m,\u001b[0m \u001b[0mgroup_by\u001b[0m\u001b[1;33m,\u001b[0m \u001b[0mfunc\u001b[0m\u001b[1;33m,\u001b[0m \u001b[0medges\u001b[0m\u001b[1;33m=\u001b[0m\u001b[0mALL\u001b[0m\u001b[1;33m,\u001b[0m \u001b[0minplace\u001b[0m\u001b[1;33m=\u001b[0m\u001b[1;32mFalse\u001b[0m\u001b[1;33m)\u001b[0m\u001b[1;33m:\u001b[0m\u001b[1;33m\u001b[0m\u001b[1;33m\u001b[0m\u001b[0m\n",
      "\u001b[1;32m~\\Anaconda3\\envs\\deep\\lib\\site-packages\\dgl\\runtime\\runtime.py\u001b[0m in \u001b[0;36mrun\u001b[1;34m(prog)\u001b[0m\n\u001b[0;32m      9\u001b[0m         \u001b[1;32mfor\u001b[0m \u001b[0mexe\u001b[0m \u001b[1;32min\u001b[0m \u001b[0mprog\u001b[0m\u001b[1;33m.\u001b[0m\u001b[0mexecs\u001b[0m\u001b[1;33m:\u001b[0m\u001b[1;33m\u001b[0m\u001b[1;33m\u001b[0m\u001b[0m\n\u001b[0;32m     10\u001b[0m             \u001b[1;31m# prog.pprint_exe(exe)\u001b[0m\u001b[1;33m\u001b[0m\u001b[1;33m\u001b[0m\u001b[1;33m\u001b[0m\u001b[0m\n\u001b[1;32m---> 11\u001b[1;33m             \u001b[0mexe\u001b[0m\u001b[1;33m.\u001b[0m\u001b[0mrun\u001b[0m\u001b[1;33m(\u001b[0m\u001b[1;33m)\u001b[0m\u001b[1;33m\u001b[0m\u001b[1;33m\u001b[0m\u001b[0m\n\u001b[0m",
      "\u001b[1;32m~\\Anaconda3\\envs\\deep\\lib\\site-packages\\dgl\\runtime\\ir\\executor.py\u001b[0m in \u001b[0;36mrun\u001b[1;34m(self)\u001b[0m\n\u001b[0;32m    202\u001b[0m         \u001b[0medge_data\u001b[0m \u001b[1;33m=\u001b[0m \u001b[0mself\u001b[0m\u001b[1;33m.\u001b[0m\u001b[0mfdedge\u001b[0m\u001b[1;33m.\u001b[0m\u001b[0mdata\u001b[0m\u001b[1;33m\u001b[0m\u001b[1;33m\u001b[0m\u001b[0m\n\u001b[0;32m    203\u001b[0m         \u001b[0mdst_data\u001b[0m \u001b[1;33m=\u001b[0m \u001b[0mself\u001b[0m\u001b[1;33m.\u001b[0m\u001b[0mfddst\u001b[0m\u001b[1;33m.\u001b[0m\u001b[0mdata\u001b[0m\u001b[1;33m\u001b[0m\u001b[1;33m\u001b[0m\u001b[0m\n\u001b[1;32m--> 204\u001b[1;33m         \u001b[0mudf_ret\u001b[0m \u001b[1;33m=\u001b[0m \u001b[0mfn_data\u001b[0m\u001b[1;33m(\u001b[0m\u001b[0msrc_data\u001b[0m\u001b[1;33m,\u001b[0m \u001b[0medge_data\u001b[0m\u001b[1;33m,\u001b[0m \u001b[0mdst_data\u001b[0m\u001b[1;33m)\u001b[0m\u001b[1;33m\u001b[0m\u001b[1;33m\u001b[0m\u001b[0m\n\u001b[0m\u001b[0;32m    205\u001b[0m         \u001b[0mself\u001b[0m\u001b[1;33m.\u001b[0m\u001b[0mret\u001b[0m\u001b[1;33m.\u001b[0m\u001b[0mdata\u001b[0m \u001b[1;33m=\u001b[0m \u001b[0mFrameRef\u001b[0m\u001b[1;33m(\u001b[0m\u001b[0mFrame\u001b[0m\u001b[1;33m(\u001b[0m\u001b[0mudf_ret\u001b[0m\u001b[1;33m)\u001b[0m\u001b[1;33m)\u001b[0m\u001b[1;33m\u001b[0m\u001b[1;33m\u001b[0m\u001b[0m\n\u001b[0;32m    206\u001b[0m \u001b[1;33m\u001b[0m\u001b[0m\n",
      "\u001b[1;32m~\\Anaconda3\\envs\\deep\\lib\\site-packages\\dgl\\runtime\\scheduler.py\u001b[0m in \u001b[0;36m_mfunc_wrapper\u001b[1;34m(src_data, edge_data, dst_data)\u001b[0m\n\u001b[0;32m    970\u001b[0m                            \u001b[0msrc_data\u001b[0m\u001b[1;33m,\u001b[0m \u001b[0medge_data\u001b[0m\u001b[1;33m,\u001b[0m \u001b[0mdst_data\u001b[0m\u001b[1;33m,\u001b[0m\u001b[1;33m\u001b[0m\u001b[1;33m\u001b[0m\u001b[0m\n\u001b[0;32m    971\u001b[0m                            canonical_etype=canonical_etype)\n\u001b[1;32m--> 972\u001b[1;33m         \u001b[1;32mreturn\u001b[0m \u001b[0mmfunc\u001b[0m\u001b[1;33m(\u001b[0m\u001b[0mebatch\u001b[0m\u001b[1;33m)\u001b[0m\u001b[1;33m\u001b[0m\u001b[1;33m\u001b[0m\u001b[0m\n\u001b[0m\u001b[0;32m    973\u001b[0m     \u001b[0m_mfunc_wrapper\u001b[0m \u001b[1;33m=\u001b[0m \u001b[0mvar\u001b[0m\u001b[1;33m.\u001b[0m\u001b[0mFUNC\u001b[0m\u001b[1;33m(\u001b[0m\u001b[0m_mfunc_wrapper\u001b[0m\u001b[1;33m)\u001b[0m\u001b[1;33m\u001b[0m\u001b[1;33m\u001b[0m\u001b[0m\n\u001b[0;32m    974\u001b[0m     \u001b[0mmsg\u001b[0m \u001b[1;33m=\u001b[0m \u001b[0mir\u001b[0m\u001b[1;33m.\u001b[0m\u001b[0mEDGE_UDF\u001b[0m\u001b[1;33m(\u001b[0m\u001b[0m_mfunc_wrapper\u001b[0m\u001b[1;33m,\u001b[0m \u001b[0mfdsrc\u001b[0m\u001b[1;33m,\u001b[0m \u001b[0mfdedge\u001b[0m\u001b[1;33m,\u001b[0m \u001b[0mfddst\u001b[0m\u001b[1;33m)\u001b[0m\u001b[1;33m\u001b[0m\u001b[1;33m\u001b[0m\u001b[0m\n",
      "\u001b[1;32m<ipython-input-8-a190faf7a2bc>\u001b[0m in \u001b[0;36mmessage\u001b[1;34m(self, edges)\u001b[0m\n\u001b[0;32m     36\u001b[0m         \"\"\"The message computation function.\n\u001b[0;32m     37\u001b[0m         \"\"\"\n\u001b[1;32m---> 38\u001b[1;33m         \u001b[0mtheta_x\u001b[0m \u001b[1;33m=\u001b[0m \u001b[0mself\u001b[0m\u001b[1;33m.\u001b[0m\u001b[0mtheta\u001b[0m\u001b[1;33m(\u001b[0m\u001b[0medges\u001b[0m\u001b[1;33m.\u001b[0m\u001b[0mdst\u001b[0m\u001b[1;33m[\u001b[0m\u001b[1;34m'x'\u001b[0m\u001b[1;33m]\u001b[0m \u001b[1;33m-\u001b[0m \u001b[0medges\u001b[0m\u001b[1;33m.\u001b[0m\u001b[0msrc\u001b[0m\u001b[1;33m[\u001b[0m\u001b[1;34m'x'\u001b[0m\u001b[1;33m]\u001b[0m\u001b[1;33m)\u001b[0m\u001b[1;33m\u001b[0m\u001b[1;33m\u001b[0m\u001b[0m\n\u001b[0m\u001b[0;32m     39\u001b[0m         \u001b[0mphi_x\u001b[0m \u001b[1;33m=\u001b[0m \u001b[0mself\u001b[0m\u001b[1;33m.\u001b[0m\u001b[0mphi\u001b[0m\u001b[1;33m(\u001b[0m\u001b[0medges\u001b[0m\u001b[1;33m.\u001b[0m\u001b[0msrc\u001b[0m\u001b[1;33m[\u001b[0m\u001b[1;34m'x'\u001b[0m\u001b[1;33m]\u001b[0m\u001b[1;33m)\u001b[0m\u001b[1;33m\u001b[0m\u001b[1;33m\u001b[0m\u001b[0m\n\u001b[0;32m     40\u001b[0m         \u001b[1;32mreturn\u001b[0m \u001b[1;33m{\u001b[0m\u001b[1;34m'e'\u001b[0m\u001b[1;33m:\u001b[0m \u001b[0mtheta_x\u001b[0m \u001b[1;33m+\u001b[0m \u001b[0mphi_x\u001b[0m\u001b[1;33m}\u001b[0m\u001b[1;33m\u001b[0m\u001b[1;33m\u001b[0m\u001b[0m\n",
      "\u001b[1;32m~\\Anaconda3\\envs\\deep\\lib\\site-packages\\dgl\\utils.py\u001b[0m in \u001b[0;36m__getitem__\u001b[1;34m(self, key)\u001b[0m\n\u001b[0;32m    283\u001b[0m         \u001b[1;32mif\u001b[0m \u001b[0mkey\u001b[0m \u001b[1;32mnot\u001b[0m \u001b[1;32min\u001b[0m \u001b[0mself\u001b[0m\u001b[1;33m.\u001b[0m\u001b[0m_keys\u001b[0m\u001b[1;33m:\u001b[0m\u001b[1;33m\u001b[0m\u001b[1;33m\u001b[0m\u001b[0m\n\u001b[0;32m    284\u001b[0m             \u001b[1;32mraise\u001b[0m \u001b[0mKeyError\u001b[0m\u001b[1;33m(\u001b[0m\u001b[0mkey\u001b[0m\u001b[1;33m)\u001b[0m\u001b[1;33m\u001b[0m\u001b[1;33m\u001b[0m\u001b[0m\n\u001b[1;32m--> 285\u001b[1;33m         \u001b[1;32mreturn\u001b[0m \u001b[0mself\u001b[0m\u001b[1;33m.\u001b[0m\u001b[0m_fn\u001b[0m\u001b[1;33m(\u001b[0m\u001b[0mkey\u001b[0m\u001b[1;33m)\u001b[0m\u001b[1;33m\u001b[0m\u001b[1;33m\u001b[0m\u001b[0m\n\u001b[0m\u001b[0;32m    286\u001b[0m \u001b[1;33m\u001b[0m\u001b[0m\n\u001b[0;32m    287\u001b[0m     \u001b[1;32mdef\u001b[0m \u001b[0m__contains__\u001b[0m\u001b[1;33m(\u001b[0m\u001b[0mself\u001b[0m\u001b[1;33m,\u001b[0m \u001b[0mkey\u001b[0m\u001b[1;33m)\u001b[0m\u001b[1;33m:\u001b[0m\u001b[1;33m\u001b[0m\u001b[1;33m\u001b[0m\u001b[0m\n",
      "\u001b[1;32m~\\Anaconda3\\envs\\deep\\lib\\site-packages\\dgl\\frame.py\u001b[0m in \u001b[0;36m<lambda>\u001b[1;34m(key)\u001b[0m\n\u001b[0;32m    653\u001b[0m         \"\"\"\n\u001b[0;32m    654\u001b[0m         \u001b[0mrows\u001b[0m \u001b[1;33m=\u001b[0m \u001b[0mself\u001b[0m\u001b[1;33m.\u001b[0m\u001b[0m_getrows\u001b[0m\u001b[1;33m(\u001b[0m\u001b[0mquery\u001b[0m\u001b[1;33m)\u001b[0m\u001b[1;33m\u001b[0m\u001b[1;33m\u001b[0m\u001b[0m\n\u001b[1;32m--> 655\u001b[1;33m         \u001b[1;32mreturn\u001b[0m \u001b[0mutils\u001b[0m\u001b[1;33m.\u001b[0m\u001b[0mLazyDict\u001b[0m\u001b[1;33m(\u001b[0m\u001b[1;32mlambda\u001b[0m \u001b[0mkey\u001b[0m\u001b[1;33m:\u001b[0m \u001b[0mself\u001b[0m\u001b[1;33m.\u001b[0m\u001b[0m_frame\u001b[0m\u001b[1;33m[\u001b[0m\u001b[0mkey\u001b[0m\u001b[1;33m]\u001b[0m\u001b[1;33m[\u001b[0m\u001b[0mrows\u001b[0m\u001b[1;33m]\u001b[0m\u001b[1;33m,\u001b[0m \u001b[0mkeys\u001b[0m\u001b[1;33m=\u001b[0m\u001b[0mself\u001b[0m\u001b[1;33m.\u001b[0m\u001b[0mkeys\u001b[0m\u001b[1;33m(\u001b[0m\u001b[1;33m)\u001b[0m\u001b[1;33m)\u001b[0m\u001b[1;33m\u001b[0m\u001b[1;33m\u001b[0m\u001b[0m\n\u001b[0m\u001b[0;32m    656\u001b[0m \u001b[1;33m\u001b[0m\u001b[0m\n\u001b[0;32m    657\u001b[0m     \u001b[1;32mdef\u001b[0m \u001b[0m__setitem__\u001b[0m\u001b[1;33m(\u001b[0m\u001b[0mself\u001b[0m\u001b[1;33m,\u001b[0m \u001b[0mkey\u001b[0m\u001b[1;33m,\u001b[0m \u001b[0mval\u001b[0m\u001b[1;33m)\u001b[0m\u001b[1;33m:\u001b[0m\u001b[1;33m\u001b[0m\u001b[1;33m\u001b[0m\u001b[0m\n",
      "\u001b[1;32m~\\Anaconda3\\envs\\deep\\lib\\site-packages\\dgl\\frame.py\u001b[0m in \u001b[0;36m__getitem__\u001b[1;34m(self, idx)\u001b[0m\n\u001b[0;32m     95\u001b[0m         \u001b[1;32melse\u001b[0m\u001b[1;33m:\u001b[0m\u001b[1;33m\u001b[0m\u001b[1;33m\u001b[0m\u001b[0m\n\u001b[0;32m     96\u001b[0m             \u001b[0muser_idx\u001b[0m \u001b[1;33m=\u001b[0m \u001b[0midx\u001b[0m\u001b[1;33m.\u001b[0m\u001b[0mtousertensor\u001b[0m\u001b[1;33m(\u001b[0m\u001b[0mF\u001b[0m\u001b[1;33m.\u001b[0m\u001b[0mcontext\u001b[0m\u001b[1;33m(\u001b[0m\u001b[0mself\u001b[0m\u001b[1;33m.\u001b[0m\u001b[0mdata\u001b[0m\u001b[1;33m)\u001b[0m\u001b[1;33m)\u001b[0m\u001b[1;33m\u001b[0m\u001b[1;33m\u001b[0m\u001b[0m\n\u001b[1;32m---> 97\u001b[1;33m             \u001b[1;32mreturn\u001b[0m \u001b[0mF\u001b[0m\u001b[1;33m.\u001b[0m\u001b[0mgather_row\u001b[0m\u001b[1;33m(\u001b[0m\u001b[0mself\u001b[0m\u001b[1;33m.\u001b[0m\u001b[0mdata\u001b[0m\u001b[1;33m,\u001b[0m \u001b[0muser_idx\u001b[0m\u001b[1;33m)\u001b[0m\u001b[1;33m\u001b[0m\u001b[1;33m\u001b[0m\u001b[0m\n\u001b[0m\u001b[0;32m     98\u001b[0m \u001b[1;33m\u001b[0m\u001b[0m\n\u001b[0;32m     99\u001b[0m     \u001b[1;32mdef\u001b[0m \u001b[0m__setitem__\u001b[0m\u001b[1;33m(\u001b[0m\u001b[0mself\u001b[0m\u001b[1;33m,\u001b[0m \u001b[0midx\u001b[0m\u001b[1;33m,\u001b[0m \u001b[0mfeats\u001b[0m\u001b[1;33m)\u001b[0m\u001b[1;33m:\u001b[0m\u001b[1;33m\u001b[0m\u001b[1;33m\u001b[0m\u001b[0m\n",
      "\u001b[1;32m~\\Anaconda3\\envs\\deep\\lib\\site-packages\\dgl\\backend\\pytorch\\tensor.py\u001b[0m in \u001b[0;36mgather_row\u001b[1;34m(data, row_index)\u001b[0m\n\u001b[0;32m    154\u001b[0m \u001b[1;33m\u001b[0m\u001b[0m\n\u001b[0;32m    155\u001b[0m \u001b[1;32mdef\u001b[0m \u001b[0mgather_row\u001b[0m\u001b[1;33m(\u001b[0m\u001b[0mdata\u001b[0m\u001b[1;33m,\u001b[0m \u001b[0mrow_index\u001b[0m\u001b[1;33m)\u001b[0m\u001b[1;33m:\u001b[0m\u001b[1;33m\u001b[0m\u001b[1;33m\u001b[0m\u001b[0m\n\u001b[1;32m--> 156\u001b[1;33m     \u001b[1;32mreturn\u001b[0m \u001b[0mth\u001b[0m\u001b[1;33m.\u001b[0m\u001b[0mindex_select\u001b[0m\u001b[1;33m(\u001b[0m\u001b[0mdata\u001b[0m\u001b[1;33m,\u001b[0m \u001b[1;36m0\u001b[0m\u001b[1;33m,\u001b[0m \u001b[0mrow_index\u001b[0m\u001b[1;33m)\u001b[0m\u001b[1;33m\u001b[0m\u001b[1;33m\u001b[0m\u001b[0m\n\u001b[0m\u001b[0;32m    157\u001b[0m \u001b[1;33m\u001b[0m\u001b[0m\n\u001b[0;32m    158\u001b[0m \u001b[1;32mdef\u001b[0m \u001b[0mslice_axis\u001b[0m\u001b[1;33m(\u001b[0m\u001b[0mdata\u001b[0m\u001b[1;33m,\u001b[0m \u001b[0maxis\u001b[0m\u001b[1;33m,\u001b[0m \u001b[0mbegin\u001b[0m\u001b[1;33m,\u001b[0m \u001b[0mend\u001b[0m\u001b[1;33m)\u001b[0m\u001b[1;33m:\u001b[0m\u001b[1;33m\u001b[0m\u001b[1;33m\u001b[0m\u001b[0m\n",
      "\u001b[1;31mKeyboardInterrupt\u001b[0m: "
     ]
    }
   ],
   "source": [
    "for epoch in range(num_epochs):\n",
    "    print('Epoch #%d Validating' % epoch)\n",
    "    valid_acc = evaluate(model, valid_loader, dev)\n",
    "    test_acc = evaluate(model, test_loader, dev)\n",
    "    if valid_acc > best_valid_acc:\n",
    "        best_valid_acc = valid_acc\n",
    "        best_test_acc = test_acc\n",
    "        # if args.save_model_path:\n",
    "        #     torch.save(model.state_dict(), args.save_model_path)\n",
    "    print('Current validation acc: %.5f (best: %.5f), test acc: %.5f (best: %.5f)' % (\n",
    "        valid_acc, best_valid_acc, test_acc, best_test_acc))\n",
    "\n",
    "    train(model, opt, scheduler, train_loader, dev)"
   ]
  },
  {
   "cell_type": "code",
   "execution_count": 0,
   "metadata": {
    "colab": {
     "base_uri": "https://localhost:8080/",
     "height": 84
    },
    "colab_type": "code",
    "id": "eHsm814iLlNb",
    "outputId": "f245a671-12b7-4c89-fc48-3fa3a9057bb7"
   },
   "outputs": [
    {
     "name": "stdout",
     "output_type": "stream",
     "text": [
      "nvcc: NVIDIA (R) Cuda compiler driver\n",
      "Copyright (c) 2005-2019 NVIDIA Corporation\n",
      "Built on Sun_Jul_28_19:07:16_PDT_2019\n",
      "Cuda compilation tools, release 10.1, V10.1.243\n"
     ]
    }
   ],
   "source": [
    "!nvcc --version"
   ]
  },
  {
   "cell_type": "code",
   "execution_count": 0,
   "metadata": {
    "colab": {},
    "colab_type": "code",
    "id": "CgJujSfxNA6P"
   },
   "outputs": [],
   "source": []
  }
 ],
 "metadata": {
  "accelerator": "GPU",
  "colab": {
   "collapsed_sections": [],
   "include_colab_link": true,
   "name": "DGCNN_PointNet_DGL.ipynb",
   "provenance": []
  },
  "kernelspec": {
   "display_name": "Python 3",
   "language": "python",
   "name": "python3"
  },
  "language_info": {
   "codemirror_mode": {
    "name": "ipython",
    "version": 3
   },
   "file_extension": ".py",
   "mimetype": "text/x-python",
   "name": "python",
   "nbconvert_exporter": "python",
   "pygments_lexer": "ipython3",
   "version": "3.7.6"
  }
 },
 "nbformat": 4,
 "nbformat_minor": 1
}
