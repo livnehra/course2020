{
 "cells": [
  {
   "cell_type": "code",
   "execution_count": 1,
   "metadata": {},
   "outputs": [],
   "source": [
    "import networkx as nx\n",
    "import numpy as np\n",
    "import json\n",
    "from tqdm.notebook import tqdm"
   ]
  },
  {
   "cell_type": "code",
   "execution_count": 2,
   "metadata": {},
   "outputs": [],
   "source": [
    "import matplotlib.pyplot as plt"
   ]
  },
  {
   "cell_type": "code",
   "execution_count": 3,
   "metadata": {},
   "outputs": [],
   "source": [
    "def generate_graph():\n",
    "    n_nodes = np.random.randint(15,50)\n",
    "    G = nx.connected_watts_strogatz_graph(n_nodes,4,1)\n",
    "    \n",
    "    reverse_edges = [(e[1],e[0]) for e in G.edges]\n",
    "    G.add_edges_from(reverse_edges)\n",
    "    \n",
    "    node_positions = -1+2*np.random.rand(n_nodes,2)\n",
    "\n",
    "    node_attributes = np.zeros((n_nodes,2) ) #np.column_stack( ( node_positions, np.zeros((n_nodes,2) ) ) )\n",
    "\n",
    "    pos = {i:node_positions[i] for i in range(n_nodes)}\n",
    "\n",
    "    distances = {e: np.linalg.norm(pos[e[0]]-pos[e[1]]) for e in G.edges}\n",
    "\n",
    "    nx.set_edge_attributes(G,distances,'distance')\n",
    "\n",
    "    perm = np.random.permutation(range(n_nodes))\n",
    "    start_idx = 0\n",
    "    end_idx = 1\n",
    "    \n",
    "    \n",
    "    \n",
    "    start = perm[start_idx]\n",
    "    end = perm[end_idx]\n",
    "    \n",
    "    path = []\n",
    "    \n",
    "    iterations = 0\n",
    "    \n",
    "    while len(path) < 5:\n",
    "        \n",
    "        end_idx = 0\n",
    "        while not nx.has_path(G, start, end):\n",
    "            iterations+=1\n",
    "        \n",
    "            if iterations > 10:\n",
    "                return generate_graph()\n",
    "        \n",
    "            if end_idx+1 == start_idx:\n",
    "                continue\n",
    "            end = perm[end_idx+1]\n",
    "            end_idx+=1\n",
    "            if end_idx > len(perm)-2:\n",
    "                end_idx = 0\n",
    "                start_idx+=1\n",
    "                start = perm[start_idx]\n",
    "        path = nx.shortest_path(G,start,end,'distance')\n",
    "        if len(path) < 5:\n",
    "            start_idx+=1\n",
    "            if start_idx > len(perm)-1:\n",
    "                return generate_graph()\n",
    "            start = perm[start_idx]\n",
    "        \n",
    "    node_attributes[start][0] = 1\n",
    "    node_attributes[end][1] = 1\n",
    "\n",
    "    nx.set_node_attributes(G,{i: list(node_attributes[i]) for i in range(n_nodes)},'node_features')\n",
    "    \n",
    "    \n",
    "\n",
    "    distances = {e: np.linalg.norm(pos[e[0]]-pos[e[1]]) for e in G.edges}\n",
    "    nx.set_edge_attributes(G,distances,'distance')\n",
    "\n",
    "    edge_on_path = {e: 0 for e in G.edges}\n",
    "\n",
    "    for path_i in range(len(path)-1):\n",
    "        s,e = path[path_i],path[path_i+1]\n",
    "        edge_on_path[(s,e)] = 1\n",
    "        edge_on_path[(e,s)] = 1\n",
    "\n",
    "    nx.set_edge_attributes(G,edge_on_path,'on_path')\n",
    "    \n",
    "    \n",
    "    return nx.node_link_data(G) "
   ]
  },
  {
   "cell_type": "code",
   "execution_count": null,
   "metadata": {},
   "outputs": [],
   "source": []
  },
  {
   "cell_type": "code",
   "execution_count": 4,
   "metadata": {},
   "outputs": [
    {
     "data": {
      "image/png": "[encoded data removed]",
      "text/plain": [
       "<Figure size 432x288 with 1 Axes>"
      ]
     },
     "metadata": {},
     "output_type": "display_data"
    }
   ],
   "source": [
    "nx.draw( nx.node_link_graph(generate_graph()) )"
   ]
  },
  {
   "cell_type": "code",
   "execution_count": null,
   "metadata": {},
   "outputs": [],
   "source": []
  },
  {
   "cell_type": "code",
   "execution_count": 7,
   "metadata": {},
   "outputs": [
    {
     "data": {
      "application/vnd.jupyter.widget-view+json": {
       "model_id": "9de3bb9c5ef94d7a91672a3209aad139",
       "version_major": 2,
       "version_minor": 0
      },
      "text/plain": [
       "HBox(children=(FloatProgress(value=0.0, max=10000.0), HTML(value='')))"
      ]
     },
     "metadata": {},
     "output_type": "display_data"
    },
    {
     "name": "stdout",
     "output_type": "stream",
     "text": [
      "\n"
     ]
    }
   ],
   "source": [
    "for i in tqdm( range(10000) ):\n",
    "    with open('C:/Users/Ran/Dropbox/Documents/PhD/course2020/Tutorial6/training_data/graph_'+str(i)+'.json','w') as outfile:\n",
    "        json.dump(generate_graph(),outfile)"
   ]
  },
  {
   "cell_type": "code",
   "execution_count": 8,
   "metadata": {},
   "outputs": [
    {
     "data": {
      "application/vnd.jupyter.widget-view+json": {
       "model_id": "840633364e584677a65c6938e3048404",
       "version_major": 2,
       "version_minor": 0
      },
      "text/plain": [
       "HBox(children=(FloatProgress(value=0.0, max=10000.0), HTML(value='')))"
      ]
     },
     "metadata": {},
     "output_type": "display_data"
    },
    {
     "name": "stdout",
     "output_type": "stream",
     "text": [
      "\n"
     ]
    }
   ],
   "source": [
    "for i in tqdm( range(10000) ):\n",
    "    with open('C:/Users/Ran/Dropbox/Documents/PhD/course2020/Tutorial6/test_data/graph_'+str(i)+'.json','w') as outfile:\n",
    "        json.dump(generate_graph(),outfile)"
   ]
  },
  {
   "cell_type": "code",
   "execution_count": null,
   "metadata": {},
   "outputs": [],
   "source": []
  }
 ],
 "metadata": {
  "kernelspec": {
   "display_name": "Python 3",
   "language": "python",
   "name": "python3"
  },
  "language_info": {
   "codemirror_mode": {
    "name": "ipython",
    "version": 3
   },
   "file_extension": ".py",
   "mimetype": "text/x-python",
   "name": "python",
   "nbconvert_exporter": "python",
   "pygments_lexer": "ipython3",
   "version": "3.7.6"
  }
 },
 "nbformat": 4,
 "nbformat_minor": 4
}
